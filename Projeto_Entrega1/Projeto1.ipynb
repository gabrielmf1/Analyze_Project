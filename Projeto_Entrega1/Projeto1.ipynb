{
 "cells": [
  {
   "cell_type": "markdown",
   "metadata": {},
   "source": [
    "# Ciência dos Dados - Projeto 1\n",
    "\n",
    "\n",
    "## Introdução \n",
    "\n",
    "Esse trabalho tem como objetivo a aprendizagem de analisar dados através de ferramentas estatísticas e computacionais. Para atingi-lo, utilizamos três variáveis para ver a correlação entre elas. A principal é o Índice de Desenvolvimento Humano (IDH), que é composto por expectativa de vida, educação e o PIB per capita do país que está sendo analisado. Porém, nesse trabalho foram analisados diversos países em um determinado período, nesse caso, o ano de 2009. Formulamos uma pergunta sobre o IDH com relação as outras duas variáveis escolhidas e a resposta para a mesma tem que ser encontrada nos dados analisados.\n",
    "\n",
    "** Nome:** Gabriel Miras Floriano\n",
    "\n",
    "**Pergunta:** Como uma elevada população urbana e um setor de serviços desenvolvido ﻿interferem no IDH?﻿"
   ]
  },
  {
   "cell_type": "markdown",
   "metadata": {},
   "source": [
    "# IDH, População Urbana e Setor de Serviços\n",
    "Foram coletados três dados do site https://www.gapminder.org/, sendo que um deles foi definido pelo professor e os outros dois foram de livre escolha dos alunos:\n",
    "\n",
    "1. IDH (Índice de Desenvolvimento Humano)\n",
    "2. População Urbana (% do total)\n",
    "3. Setor de Serviços (% do PIB)\n",
    "\n",
    "Nesses dataframes, as linhas representam os países e as colunas representam o ano.\n",
    "\n",
    "Como os arquivos estão separados, será preciso juntá-los cruzando o país, restringindo a análise do ano 2009."
   ]
  },
  {
   "cell_type": "markdown",
   "metadata": {},
   "source": [
    "## Imports ##"
   ]
  },
  {
   "cell_type": "code",
   "execution_count": 247,
   "metadata": {},
   "outputs": [],
   "source": [
    "import pandas as pd\n",
    "%matplotlib inline\n",
    "import matplotlib.pyplot as plt\n",
    "import matplotlib\n",
    "import numpy as np\n",
    "import seaborn as sns"
   ]
  },
  {
   "cell_type": "markdown",
   "metadata": {},
   "source": [
    "## Leitura dos arquivos"
   ]
  },
  {
   "cell_type": "code",
   "execution_count": 248,
   "metadata": {},
   "outputs": [],
   "source": [
    "#Leitura dos arquivos em excel\n",
    "hdi = pd.read_excel('Indicator_HDI.xlsx')\n",
    "UP = pd.read_excel('UP.xlsx')\n",
    "S = pd.read_excel('S.xlsx')"
   ]
  },
  {
   "cell_type": "markdown",
   "metadata": {},
   "source": [
    "# IDH\n",
    "\n",
    "É possível verificar que cada linha representa um país e as colunas representam o ano."
   ]
  },
  {
   "cell_type": "code",
   "execution_count": 249,
   "metadata": {},
   "outputs": [
    {
     "data": {
      "text/html": [
       "<div>\n",
       "<style scoped>\n",
       "    .dataframe tbody tr th:only-of-type {\n",
       "        vertical-align: middle;\n",
       "    }\n",
       "\n",
       "    .dataframe tbody tr th {\n",
       "        vertical-align: top;\n",
       "    }\n",
       "\n",
       "    .dataframe thead th {\n",
       "        text-align: right;\n",
       "    }\n",
       "</style>\n",
       "<table border=\"1\" class=\"dataframe\">\n",
       "  <thead>\n",
       "    <tr style=\"text-align: right;\">\n",
       "      <th></th>\n",
       "      <th>País</th>\n",
       "      <th>IDH em 2009</th>\n",
       "    </tr>\n",
       "  </thead>\n",
       "  <tbody>\n",
       "    <tr>\n",
       "      <th>0</th>\n",
       "      <td>Abkhazia</td>\n",
       "      <td>NaN</td>\n",
       "    </tr>\n",
       "    <tr>\n",
       "      <th>1</th>\n",
       "      <td>Afghanistan</td>\n",
       "      <td>0.387</td>\n",
       "    </tr>\n",
       "    <tr>\n",
       "      <th>2</th>\n",
       "      <td>Akrotiri and Dhekelia</td>\n",
       "      <td>NaN</td>\n",
       "    </tr>\n",
       "    <tr>\n",
       "      <th>3</th>\n",
       "      <td>Albania</td>\n",
       "      <td>0.734</td>\n",
       "    </tr>\n",
       "    <tr>\n",
       "      <th>4</th>\n",
       "      <td>Algeria</td>\n",
       "      <td>0.691</td>\n",
       "    </tr>\n",
       "    <tr>\n",
       "      <th>5</th>\n",
       "      <td>American Samoa</td>\n",
       "      <td>NaN</td>\n",
       "    </tr>\n",
       "    <tr>\n",
       "      <th>6</th>\n",
       "      <td>Andorra</td>\n",
       "      <td>NaN</td>\n",
       "    </tr>\n",
       "    <tr>\n",
       "      <th>7</th>\n",
       "      <td>Angola</td>\n",
       "      <td>0.481</td>\n",
       "    </tr>\n",
       "    <tr>\n",
       "      <th>8</th>\n",
       "      <td>Anguilla</td>\n",
       "      <td>NaN</td>\n",
       "    </tr>\n",
       "    <tr>\n",
       "      <th>9</th>\n",
       "      <td>Antigua and Barbuda</td>\n",
       "      <td>NaN</td>\n",
       "    </tr>\n",
       "    <tr>\n",
       "      <th>10</th>\n",
       "      <td>Argentina</td>\n",
       "      <td>0.788</td>\n",
       "    </tr>\n",
       "  </tbody>\n",
       "</table>\n",
       "</div>"
      ],
      "text/plain": [
       "                     País  IDH em 2009\n",
       "0                Abkhazia          NaN\n",
       "1             Afghanistan        0.387\n",
       "2   Akrotiri and Dhekelia          NaN\n",
       "3                 Albania        0.734\n",
       "4                 Algeria        0.691\n",
       "5          American Samoa          NaN\n",
       "6                 Andorra          NaN\n",
       "7                  Angola        0.481\n",
       "8                Anguilla          NaN\n",
       "9     Antigua and Barbuda          NaN\n",
       "10              Argentina        0.788"
      ]
     },
     "execution_count": 249,
     "metadata": {},
     "output_type": "execute_result"
    }
   ],
   "source": [
    "hdi= hdi.loc[:, [\"HDI\", 2009]]\n",
    "hdi = hdi.rename(columns = {'HDI':'País', 2009:'IDH em 2009'})\n",
    "hdi.head(11)"
   ]
  },
  {
   "cell_type": "markdown",
   "metadata": {},
   "source": [
    "# População Urbana\n",
    "\n",
    "É possível verificar que cada linha representa um país e as colunas representam o ano."
   ]
  },
  {
   "cell_type": "code",
   "execution_count": 250,
   "metadata": {},
   "outputs": [
    {
     "data": {
      "text/html": [
       "<div>\n",
       "<style scoped>\n",
       "    .dataframe tbody tr th:only-of-type {\n",
       "        vertical-align: middle;\n",
       "    }\n",
       "\n",
       "    .dataframe tbody tr th {\n",
       "        vertical-align: top;\n",
       "    }\n",
       "\n",
       "    .dataframe thead th {\n",
       "        text-align: right;\n",
       "    }\n",
       "</style>\n",
       "<table border=\"1\" class=\"dataframe\">\n",
       "  <thead>\n",
       "    <tr style=\"text-align: right;\">\n",
       "      <th></th>\n",
       "      <th>País</th>\n",
       "      <th>População Urbana em 2009 (%)</th>\n",
       "    </tr>\n",
       "  </thead>\n",
       "  <tbody>\n",
       "    <tr>\n",
       "      <th>0</th>\n",
       "      <td>Abkhazia</td>\n",
       "      <td>NaN</td>\n",
       "    </tr>\n",
       "    <tr>\n",
       "      <th>1</th>\n",
       "      <td>Afghanistan</td>\n",
       "      <td>22.9676</td>\n",
       "    </tr>\n",
       "    <tr>\n",
       "      <th>2</th>\n",
       "      <td>Akrotiri and Dhekelia</td>\n",
       "      <td>NaN</td>\n",
       "    </tr>\n",
       "    <tr>\n",
       "      <th>3</th>\n",
       "      <td>Albania</td>\n",
       "      <td>51.2184</td>\n",
       "    </tr>\n",
       "    <tr>\n",
       "      <th>4</th>\n",
       "      <td>Algeria</td>\n",
       "      <td>70.9570</td>\n",
       "    </tr>\n",
       "    <tr>\n",
       "      <th>5</th>\n",
       "      <td>American Samoa</td>\n",
       "      <td>92.6390</td>\n",
       "    </tr>\n",
       "    <tr>\n",
       "      <th>6</th>\n",
       "      <td>Andorra</td>\n",
       "      <td>88.3126</td>\n",
       "    </tr>\n",
       "    <tr>\n",
       "      <th>7</th>\n",
       "      <td>Angola</td>\n",
       "      <td>57.4918</td>\n",
       "    </tr>\n",
       "    <tr>\n",
       "      <th>8</th>\n",
       "      <td>Anguilla</td>\n",
       "      <td>NaN</td>\n",
       "    </tr>\n",
       "    <tr>\n",
       "      <th>9</th>\n",
       "      <td>Antigua and Barbuda</td>\n",
       "      <td>30.0322</td>\n",
       "    </tr>\n",
       "    <tr>\n",
       "      <th>10</th>\n",
       "      <td>Argentina</td>\n",
       "      <td>92.1556</td>\n",
       "    </tr>\n",
       "  </tbody>\n",
       "</table>\n",
       "</div>"
      ],
      "text/plain": [
       "                     País  População Urbana em 2009 (%)\n",
       "0                Abkhazia                           NaN\n",
       "1             Afghanistan                       22.9676\n",
       "2   Akrotiri and Dhekelia                           NaN\n",
       "3                 Albania                       51.2184\n",
       "4                 Algeria                       70.9570\n",
       "5          American Samoa                       92.6390\n",
       "6                 Andorra                       88.3126\n",
       "7                  Angola                       57.4918\n",
       "8                Anguilla                           NaN\n",
       "9     Antigua and Barbuda                       30.0322\n",
       "10              Argentina                       92.1556"
      ]
     },
     "execution_count": 250,
     "metadata": {},
     "output_type": "execute_result"
    }
   ],
   "source": [
    "UP= UP.loc[:, [\"Urban population (% of total)\", '2009']]\n",
    "UP = UP.rename(columns = {\"Urban population (% of total)\":'País', '2009':'População Urbana em 2009 (%)'})\n",
    "UP.head(11)"
   ]
  },
  {
   "cell_type": "markdown",
   "metadata": {},
   "source": [
    "# Setor de Serviços\n",
    "\n",
    "É possível verificar que cada linha representa um país e as colunas representam o ano."
   ]
  },
  {
   "cell_type": "code",
   "execution_count": 251,
   "metadata": {},
   "outputs": [
    {
     "data": {
      "text/html": [
       "<div>\n",
       "<style scoped>\n",
       "    .dataframe tbody tr th:only-of-type {\n",
       "        vertical-align: middle;\n",
       "    }\n",
       "\n",
       "    .dataframe tbody tr th {\n",
       "        vertical-align: top;\n",
       "    }\n",
       "\n",
       "    .dataframe thead th {\n",
       "        text-align: right;\n",
       "    }\n",
       "</style>\n",
       "<table border=\"1\" class=\"dataframe\">\n",
       "  <thead>\n",
       "    <tr style=\"text-align: right;\">\n",
       "      <th></th>\n",
       "      <th>País</th>\n",
       "      <th>Setor de Serviços em 2009 (%)</th>\n",
       "    </tr>\n",
       "  </thead>\n",
       "  <tbody>\n",
       "    <tr>\n",
       "      <th>0</th>\n",
       "      <td>Afghanistan</td>\n",
       "      <td>47.607657</td>\n",
       "    </tr>\n",
       "    <tr>\n",
       "      <th>1</th>\n",
       "      <td>Albania</td>\n",
       "      <td>60.239255</td>\n",
       "    </tr>\n",
       "    <tr>\n",
       "      <th>2</th>\n",
       "      <td>Algeria</td>\n",
       "      <td>30.960967</td>\n",
       "    </tr>\n",
       "    <tr>\n",
       "      <th>3</th>\n",
       "      <td>American Samoa</td>\n",
       "      <td>NaN</td>\n",
       "    </tr>\n",
       "    <tr>\n",
       "      <th>4</th>\n",
       "      <td>Andorra</td>\n",
       "      <td>NaN</td>\n",
       "    </tr>\n",
       "    <tr>\n",
       "      <th>5</th>\n",
       "      <td>Angola</td>\n",
       "      <td>30.751248</td>\n",
       "    </tr>\n",
       "    <tr>\n",
       "      <th>6</th>\n",
       "      <td>Antigua and Barbuda</td>\n",
       "      <td>76.285758</td>\n",
       "    </tr>\n",
       "    <tr>\n",
       "      <th>7</th>\n",
       "      <td>Argentina</td>\n",
       "      <td>60.697484</td>\n",
       "    </tr>\n",
       "    <tr>\n",
       "      <th>8</th>\n",
       "      <td>Armenia</td>\n",
       "      <td>45.280450</td>\n",
       "    </tr>\n",
       "    <tr>\n",
       "      <th>9</th>\n",
       "      <td>Aruba</td>\n",
       "      <td>NaN</td>\n",
       "    </tr>\n",
       "    <tr>\n",
       "      <th>10</th>\n",
       "      <td>Australia</td>\n",
       "      <td>76.374114</td>\n",
       "    </tr>\n",
       "  </tbody>\n",
       "</table>\n",
       "</div>"
      ],
      "text/plain": [
       "                   País  Setor de Serviços em 2009 (%)\n",
       "0           Afghanistan                      47.607657\n",
       "1               Albania                      60.239255\n",
       "2               Algeria                      30.960967\n",
       "3        American Samoa                            NaN\n",
       "4               Andorra                            NaN\n",
       "5                Angola                      30.751248\n",
       "6   Antigua and Barbuda                      76.285758\n",
       "7             Argentina                      60.697484\n",
       "8               Armenia                      45.280450\n",
       "9                 Aruba                            NaN\n",
       "10            Australia                      76.374114"
      ]
     },
     "execution_count": 251,
     "metadata": {},
     "output_type": "execute_result"
    }
   ],
   "source": [
    "S= S.loc[:, [\"Services, etc., value added (% of GDP)\", '2009']]\n",
    "S = S.rename(columns = {'Services, etc., value added (% of GDP)':'País', '2009':'Setor de Serviços em 2009 (%)'})\n",
    "S.head(11)"
   ]
  },
  {
   "cell_type": "markdown",
   "metadata": {},
   "source": [
    "# Junção das tabelas"
   ]
  },
  {
   "cell_type": "code",
   "execution_count": 252,
   "metadata": {},
   "outputs": [
    {
     "data": {
      "text/html": [
       "<div>\n",
       "<style scoped>\n",
       "    .dataframe tbody tr th:only-of-type {\n",
       "        vertical-align: middle;\n",
       "    }\n",
       "\n",
       "    .dataframe tbody tr th {\n",
       "        vertical-align: top;\n",
       "    }\n",
       "\n",
       "    .dataframe thead th {\n",
       "        text-align: right;\n",
       "    }\n",
       "</style>\n",
       "<table border=\"1\" class=\"dataframe\">\n",
       "  <thead>\n",
       "    <tr style=\"text-align: right;\">\n",
       "      <th></th>\n",
       "      <th>Paíshdi</th>\n",
       "      <th>IDH em 2009</th>\n",
       "      <th>País2009</th>\n",
       "      <th>População Urbana em 2009 (%)</th>\n",
       "    </tr>\n",
       "  </thead>\n",
       "  <tbody>\n",
       "    <tr>\n",
       "      <th>0</th>\n",
       "      <td>Abkhazia</td>\n",
       "      <td>NaN</td>\n",
       "      <td>Abkhazia</td>\n",
       "      <td>NaN</td>\n",
       "    </tr>\n",
       "    <tr>\n",
       "      <th>1</th>\n",
       "      <td>Afghanistan</td>\n",
       "      <td>0.387</td>\n",
       "      <td>Afghanistan</td>\n",
       "      <td>22.9676</td>\n",
       "    </tr>\n",
       "    <tr>\n",
       "      <th>2</th>\n",
       "      <td>Akrotiri and Dhekelia</td>\n",
       "      <td>NaN</td>\n",
       "      <td>Akrotiri and Dhekelia</td>\n",
       "      <td>NaN</td>\n",
       "    </tr>\n",
       "    <tr>\n",
       "      <th>3</th>\n",
       "      <td>Albania</td>\n",
       "      <td>0.734</td>\n",
       "      <td>Albania</td>\n",
       "      <td>51.2184</td>\n",
       "    </tr>\n",
       "    <tr>\n",
       "      <th>4</th>\n",
       "      <td>Algeria</td>\n",
       "      <td>0.691</td>\n",
       "      <td>Algeria</td>\n",
       "      <td>70.9570</td>\n",
       "    </tr>\n",
       "    <tr>\n",
       "      <th>5</th>\n",
       "      <td>American Samoa</td>\n",
       "      <td>NaN</td>\n",
       "      <td>American Samoa</td>\n",
       "      <td>92.6390</td>\n",
       "    </tr>\n",
       "    <tr>\n",
       "      <th>6</th>\n",
       "      <td>Andorra</td>\n",
       "      <td>NaN</td>\n",
       "      <td>Andorra</td>\n",
       "      <td>88.3126</td>\n",
       "    </tr>\n",
       "    <tr>\n",
       "      <th>7</th>\n",
       "      <td>Angola</td>\n",
       "      <td>0.481</td>\n",
       "      <td>Angola</td>\n",
       "      <td>57.4918</td>\n",
       "    </tr>\n",
       "    <tr>\n",
       "      <th>8</th>\n",
       "      <td>Anguilla</td>\n",
       "      <td>NaN</td>\n",
       "      <td>Anguilla</td>\n",
       "      <td>NaN</td>\n",
       "    </tr>\n",
       "    <tr>\n",
       "      <th>9</th>\n",
       "      <td>Antigua and Barbuda</td>\n",
       "      <td>NaN</td>\n",
       "      <td>Antigua and Barbuda</td>\n",
       "      <td>30.0322</td>\n",
       "    </tr>\n",
       "    <tr>\n",
       "      <th>10</th>\n",
       "      <td>Argentina</td>\n",
       "      <td>0.788</td>\n",
       "      <td>Argentina</td>\n",
       "      <td>92.1556</td>\n",
       "    </tr>\n",
       "  </tbody>\n",
       "</table>\n",
       "</div>"
      ],
      "text/plain": [
       "                  Paíshdi  IDH em 2009               País2009  \\\n",
       "0                Abkhazia          NaN               Abkhazia   \n",
       "1             Afghanistan        0.387            Afghanistan   \n",
       "2   Akrotiri and Dhekelia          NaN  Akrotiri and Dhekelia   \n",
       "3                 Albania        0.734                Albania   \n",
       "4                 Algeria        0.691                Algeria   \n",
       "5          American Samoa          NaN         American Samoa   \n",
       "6                 Andorra          NaN                Andorra   \n",
       "7                  Angola        0.481                 Angola   \n",
       "8                Anguilla          NaN               Anguilla   \n",
       "9     Antigua and Barbuda          NaN    Antigua and Barbuda   \n",
       "10              Argentina        0.788              Argentina   \n",
       "\n",
       "    População Urbana em 2009 (%)  \n",
       "0                            NaN  \n",
       "1                        22.9676  \n",
       "2                            NaN  \n",
       "3                        51.2184  \n",
       "4                        70.9570  \n",
       "5                        92.6390  \n",
       "6                        88.3126  \n",
       "7                        57.4918  \n",
       "8                            NaN  \n",
       "9                        30.0322  \n",
       "10                       92.1556  "
      ]
     },
     "execution_count": 252,
     "metadata": {},
     "output_type": "execute_result"
    }
   ],
   "source": [
    "df = hdi.join(UP, how='inner', lsuffix='hdi', rsuffix='2009')\n",
    "df.head(11)"
   ]
  },
  {
   "cell_type": "code",
   "execution_count": 253,
   "metadata": {
    "scrolled": true
   },
   "outputs": [
    {
     "data": {
      "text/html": [
       "<div>\n",
       "<style scoped>\n",
       "    .dataframe tbody tr th:only-of-type {\n",
       "        vertical-align: middle;\n",
       "    }\n",
       "\n",
       "    .dataframe tbody tr th {\n",
       "        vertical-align: top;\n",
       "    }\n",
       "\n",
       "    .dataframe thead th {\n",
       "        text-align: right;\n",
       "    }\n",
       "</style>\n",
       "<table border=\"1\" class=\"dataframe\">\n",
       "  <thead>\n",
       "    <tr style=\"text-align: right;\">\n",
       "      <th></th>\n",
       "      <th>Paíshdi</th>\n",
       "      <th>IDH em 2009</th>\n",
       "      <th>País2009</th>\n",
       "      <th>População Urbana em 2009 (%)</th>\n",
       "      <th>País</th>\n",
       "      <th>Setor de Serviços em 2009 (%)</th>\n",
       "    </tr>\n",
       "  </thead>\n",
       "  <tbody>\n",
       "    <tr>\n",
       "      <th>0</th>\n",
       "      <td>Abkhazia</td>\n",
       "      <td>NaN</td>\n",
       "      <td>Abkhazia</td>\n",
       "      <td>NaN</td>\n",
       "      <td>Afghanistan</td>\n",
       "      <td>47.607657</td>\n",
       "    </tr>\n",
       "    <tr>\n",
       "      <th>1</th>\n",
       "      <td>Afghanistan</td>\n",
       "      <td>0.387</td>\n",
       "      <td>Afghanistan</td>\n",
       "      <td>22.9676</td>\n",
       "      <td>Albania</td>\n",
       "      <td>60.239255</td>\n",
       "    </tr>\n",
       "    <tr>\n",
       "      <th>2</th>\n",
       "      <td>Akrotiri and Dhekelia</td>\n",
       "      <td>NaN</td>\n",
       "      <td>Akrotiri and Dhekelia</td>\n",
       "      <td>NaN</td>\n",
       "      <td>Algeria</td>\n",
       "      <td>30.960967</td>\n",
       "    </tr>\n",
       "    <tr>\n",
       "      <th>3</th>\n",
       "      <td>Albania</td>\n",
       "      <td>0.734</td>\n",
       "      <td>Albania</td>\n",
       "      <td>51.2184</td>\n",
       "      <td>American Samoa</td>\n",
       "      <td>NaN</td>\n",
       "    </tr>\n",
       "    <tr>\n",
       "      <th>4</th>\n",
       "      <td>Algeria</td>\n",
       "      <td>0.691</td>\n",
       "      <td>Algeria</td>\n",
       "      <td>70.9570</td>\n",
       "      <td>Andorra</td>\n",
       "      <td>NaN</td>\n",
       "    </tr>\n",
       "    <tr>\n",
       "      <th>5</th>\n",
       "      <td>American Samoa</td>\n",
       "      <td>NaN</td>\n",
       "      <td>American Samoa</td>\n",
       "      <td>92.6390</td>\n",
       "      <td>Angola</td>\n",
       "      <td>30.751248</td>\n",
       "    </tr>\n",
       "    <tr>\n",
       "      <th>6</th>\n",
       "      <td>Andorra</td>\n",
       "      <td>NaN</td>\n",
       "      <td>Andorra</td>\n",
       "      <td>88.3126</td>\n",
       "      <td>Antigua and Barbuda</td>\n",
       "      <td>76.285758</td>\n",
       "    </tr>\n",
       "    <tr>\n",
       "      <th>7</th>\n",
       "      <td>Angola</td>\n",
       "      <td>0.481</td>\n",
       "      <td>Angola</td>\n",
       "      <td>57.4918</td>\n",
       "      <td>Argentina</td>\n",
       "      <td>60.697484</td>\n",
       "    </tr>\n",
       "    <tr>\n",
       "      <th>8</th>\n",
       "      <td>Anguilla</td>\n",
       "      <td>NaN</td>\n",
       "      <td>Anguilla</td>\n",
       "      <td>NaN</td>\n",
       "      <td>Armenia</td>\n",
       "      <td>45.280450</td>\n",
       "    </tr>\n",
       "    <tr>\n",
       "      <th>9</th>\n",
       "      <td>Antigua and Barbuda</td>\n",
       "      <td>NaN</td>\n",
       "      <td>Antigua and Barbuda</td>\n",
       "      <td>30.0322</td>\n",
       "      <td>Aruba</td>\n",
       "      <td>NaN</td>\n",
       "    </tr>\n",
       "    <tr>\n",
       "      <th>10</th>\n",
       "      <td>Argentina</td>\n",
       "      <td>0.788</td>\n",
       "      <td>Argentina</td>\n",
       "      <td>92.1556</td>\n",
       "      <td>Australia</td>\n",
       "      <td>76.374114</td>\n",
       "    </tr>\n",
       "  </tbody>\n",
       "</table>\n",
       "</div>"
      ],
      "text/plain": [
       "                  Paíshdi  IDH em 2009               País2009  \\\n",
       "0                Abkhazia          NaN               Abkhazia   \n",
       "1             Afghanistan        0.387            Afghanistan   \n",
       "2   Akrotiri and Dhekelia          NaN  Akrotiri and Dhekelia   \n",
       "3                 Albania        0.734                Albania   \n",
       "4                 Algeria        0.691                Algeria   \n",
       "5          American Samoa          NaN         American Samoa   \n",
       "6                 Andorra          NaN                Andorra   \n",
       "7                  Angola        0.481                 Angola   \n",
       "8                Anguilla          NaN               Anguilla   \n",
       "9     Antigua and Barbuda          NaN    Antigua and Barbuda   \n",
       "10              Argentina        0.788              Argentina   \n",
       "\n",
       "    População Urbana em 2009 (%)                 País  \\\n",
       "0                            NaN          Afghanistan   \n",
       "1                        22.9676              Albania   \n",
       "2                            NaN              Algeria   \n",
       "3                        51.2184       American Samoa   \n",
       "4                        70.9570              Andorra   \n",
       "5                        92.6390               Angola   \n",
       "6                        88.3126  Antigua and Barbuda   \n",
       "7                        57.4918            Argentina   \n",
       "8                            NaN              Armenia   \n",
       "9                        30.0322                Aruba   \n",
       "10                       92.1556            Australia   \n",
       "\n",
       "    Setor de Serviços em 2009 (%)  \n",
       "0                       47.607657  \n",
       "1                       60.239255  \n",
       "2                       30.960967  \n",
       "3                             NaN  \n",
       "4                             NaN  \n",
       "5                       30.751248  \n",
       "6                       76.285758  \n",
       "7                       60.697484  \n",
       "8                       45.280450  \n",
       "9                             NaN  \n",
       "10                      76.374114  "
      ]
     },
     "execution_count": 253,
     "metadata": {},
     "output_type": "execute_result"
    }
   ],
   "source": [
    "data = df.join(S, how=\"inner\", lsuffix = ' ', rsuffix = ' ')\n",
    "data.head(11)"
   ]
  },
  {
   "cell_type": "code",
   "execution_count": 254,
   "metadata": {},
   "outputs": [],
   "source": [
    "writer = pd.ExcelWriter('Projeto1.xlsx')\n",
    "data.to_excel(writer,'data')\n",
    "writer.save()"
   ]
  },
  {
   "cell_type": "markdown",
   "metadata": {},
   "source": [
    "# Gráficos\n",
    "Está parte está designada para a amostragem dos dados em formato de gráficos para um melhor entendimento e uma melhor análise."
   ]
  },
  {
   "cell_type": "markdown",
   "metadata": {},
   "source": [
    "## IDH e População Urbana"
   ]
  },
  {
   "cell_type": "code",
   "execution_count": 255,
   "metadata": {
    "scrolled": true
   },
   "outputs": [
    {
     "data": {
      "image/png": "[encoded data removed]",
      "text/plain": [
       "<matplotlib.figure.Figure at 0x15ebcfcbda0>"
      ]
     },
     "metadata": {},
     "output_type": "display_data"
    },
    {
     "data": {
      "text/plain": [
       "('A correlação entre o IDH em 2009 e a população urbana em 2009 é:',\n",
       " 0.7636087451596548)"
      ]
     },
     "execution_count": 255,
     "metadata": {},
     "output_type": "execute_result"
    }
   ],
   "source": [
    "data.plot.scatter(x='População Urbana em 2009 (%)',y='IDH em 2009');\n",
    "sns.regplot(data[\"População Urbana em 2009 (%)\"],data[\"IDH em 2009\"], color=('turquoise'))\n",
    "plt.axis([10, 100, 0.2, 1])\n",
    "plt.title(\"Correlação entre IDH e População Urbana em 2009\")\n",
    "plt.grid()\n",
    "plt.show()\n",
    "'A correlação entre o IDH em 2009 e a população urbana em 2009 é:', data['IDH em 2009'].corr(data['População Urbana em 2009 (%)'])"
   ]
  },
  {
   "cell_type": "markdown",
   "metadata": {},
   "source": [
    "O gráfico acima nos diz a correlação entre as variáveis de IDH e População Urbana. Como se pode ver, a correlação é forte, com um resultado de 0.7636087451596548, sendo que quanto mais próximo de 1 maior a correlação entre eles. Isso acontece pois em populações urbanas, geralmente, há um desenvolvimento e integração econômico superior e os sistemas de saúde e educação são mais avançados, o que faz o IDH elevar."
   ]
  },
  {
   "cell_type": "markdown",
   "metadata": {},
   "source": [
    "## IDH e Setor de Serviços"
   ]
  },
  {
   "cell_type": "code",
   "execution_count": 256,
   "metadata": {
    "scrolled": true
   },
   "outputs": [
    {
     "data": {
      "image/png": "[encoded data removed]",
      "text/plain": [
       "<matplotlib.figure.Figure at 0x15ebd875160>"
      ]
     },
     "metadata": {},
     "output_type": "display_data"
    },
    {
     "name": "stdout",
     "output_type": "stream",
     "text": [
      "A correlação entre o IDH em 2009 e o setor de serviços em 2009 é: 0.021909223026682162\n"
     ]
    }
   ],
   "source": [
    "data.plot.scatter(x='Setor de Serviços em 2009 (%)',y='IDH em 2009');\n",
    "sns.regplot(data[\"Setor de Serviços em 2009 (%)\"],data[\"IDH em 2009\"], color=('indigo'))\n",
    "plt.axis([10, 100, 0.2, 1])\n",
    "plt.title(\"Correlação entre IDH e Setor de Serviços em 2009\")\n",
    "plt.grid()\n",
    "plt.show()\n",
    "print('A correlação entre o IDH em 2009 e o setor de serviços em 2009 é:', data['IDH em 2009'].corr(data['Setor de Serviços em 2009 (%)']))"
   ]
  },
  {
   "cell_type": "markdown",
   "metadata": {},
   "source": [
    "O gráfico acima nos diz a correlação entre as variáveis de IDH e Setor de Serviços. Como se pode ver, a correlação é fraca, com um resultado de 0.021909223026682162, sendo que quanto mais próximo de 0 pior a correlação entre eles. Um país pode possuir um setor terciário bem desenvolvido, mas com um PIB per capita baixo, o que resultará em pouco efeito no cálculo do IDH. Outro fator é de que o país pode ser muito bem desenvolvido, porém é um grande importador, que pode acarretar em um setor terciário pouco desenvolvido."
   ]
  },
  {
   "cell_type": "markdown",
   "metadata": {},
   "source": [
    "## Setor de Serviços e População Urbana"
   ]
  },
  {
   "cell_type": "code",
   "execution_count": 257,
   "metadata": {
    "scrolled": true
   },
   "outputs": [
    {
     "data": {
      "image/png": "[encoded data removed]",
      "text/plain": [
       "<matplotlib.figure.Figure at 0x15ebae8d470>"
      ]
     },
     "metadata": {},
     "output_type": "display_data"
    },
    {
     "name": "stdout",
     "output_type": "stream",
     "text": [
      "A correlação entre o setor de serviços em 2009 e a população Urbana em 2009  é: 0.009760147212070417\n"
     ]
    }
   ],
   "source": [
    "data.plot.scatter(x='Setor de Serviços em 2009 (%)',y='População Urbana em 2009 (%)');\n",
    "sns.regplot(data[\"Setor de Serviços em 2009 (%)\"],data[\"População Urbana em 2009 (%)\"], color=('goldenrod'))\n",
    "plt.title(\"Correlação entre Pupolação Urbana e Setor de Serviços em 2009\")\n",
    "plt.grid()\n",
    "plt.show()\n",
    "print('A correlação entre o setor de serviços em 2009 e a população Urbana em 2009  é:', data['Setor de Serviços em 2009 (%)'].corr(data['População Urbana em 2009 (%)']))"
   ]
  },
  {
   "cell_type": "markdown",
   "metadata": {},
   "source": []
  },
  {
   "cell_type": "markdown",
   "metadata": {},
   "source": [
    "## IDH em 2009"
   ]
  },
  {
   "cell_type": "code",
   "execution_count": 258,
   "metadata": {
    "scrolled": true
   },
   "outputs": [
    {
     "data": {
      "image/png": "[encoded data removed]",
      "text/plain": [
       "<matplotlib.figure.Figure at 0x15ec0147b00>"
      ]
     },
     "metadata": {},
     "output_type": "display_data"
    }
   ],
   "source": [
    "hdi[\"IDH em 2009\"].plot.hist(density = True, color= 'gold')\n",
    "hdi[\"IDH em 2009\"].describe()\n",
    "plt.axvline(hdi['IDH em 2009'].median(), color= 'r', linestyle= 'dashed', linewidth= 3)\n",
    "plt.title(\"Histograma IDH em 2009\")\n",
    "plt.xlabel(\"IDH em 2009\")\n",
    "plt.grid()\n",
    "plt.show()"
   ]
  },
  {
   "cell_type": "markdown",
   "metadata": {},
   "source": [
    "assimetrico \n"
   ]
  },
  {
   "cell_type": "markdown",
   "metadata": {},
   "source": [
    "## População Urbana em 2009"
   ]
  },
  {
   "cell_type": "code",
   "execution_count": 259,
   "metadata": {
    "scrolled": true
   },
   "outputs": [
    {
     "data": {
      "image/png": "[encoded data removed]",
      "text/plain": [
       "<matplotlib.figure.Figure at 0x15ec02e5f28>"
      ]
     },
     "metadata": {},
     "output_type": "display_data"
    }
   ],
   "source": [
    "UP[\"População Urbana em 2009 (%)\"].plot.hist(density = True, color = 'green')\n",
    "UP[\"População Urbana em 2009 (%)\"].describe()\n",
    "plt.axvline(UP['População Urbana em 2009 (%)'].median(), color= 'r', linestyle= 'dashed', linewidth= 3)\n",
    "plt.title(\"Histograma População Urbana em 2009\")\n",
    "plt.xlabel(\"População Urbana em 2009\")\n",
    "plt.grid()\n",
    "plt.show()"
   ]
  },
  {
   "cell_type": "code",
   "execution_count": null,
   "metadata": {},
   "outputs": [],
   "source": []
  },
  {
   "cell_type": "markdown",
   "metadata": {},
   "source": [
    "## Setor de Serviços em 2009"
   ]
  },
  {
   "cell_type": "code",
   "execution_count": 260,
   "metadata": {
    "scrolled": true
   },
   "outputs": [
    {
     "data": {
      "image/png": "[encoded data removed]",
      "text/plain": [
       "<matplotlib.figure.Figure at 0x15ebd126198>"
      ]
     },
     "metadata": {},
     "output_type": "display_data"
    }
   ],
   "source": [
    "S[\"Setor de Serviços em 2009 (%)\"].plot.hist(density = True)\n",
    "S[\"Setor de Serviços em 2009 (%)\"].describe()\n",
    "plt.axvline(S['Setor de Serviços em 2009 (%)'].median(), color= 'r', linestyle= 'dashed', linewidth= 3)\n",
    "plt.title(\"Histograma Setor de Serviços em 2009\")\n",
    "plt.xlabel(\"Setor de Serviços em 2009\")\n",
    "plt.grid()\n",
    "plt.show()"
   ]
  },
  {
   "cell_type": "markdown",
   "metadata": {},
   "source": [
    "# Conclusão"
   ]
  },
  {
   "cell_type": "markdown",
   "metadata": {},
   "source": [
    "Com os dados e gráficos analisados, podemos dizer que quanto maior o desenvolvimento da urbanização de um país, um maior acesso a escolas e hospitais as pessoas terão, o que em um mundo idealizado, resultaria em maiores investimentos em educação e saúde. Como o cálculo do IDH não envolve ordens ecológicas, um país possuir mais áreas urbanizadas e menos áreas ruralizadas o colocará em uma melhor posição no ranking do IDH. Já com um setor de serviços bem desenvolvido os produtos que chegam aos clientes são de boa qualidade, além da diminuição de desemprego."
   ]
  }
 ],
 "metadata": {
  "kernelspec": {
   "display_name": "Python 3",
   "language": "python",
   "name": "python3"
  },
  "language_info": {
   "codemirror_mode": {
    "name": "ipython",
    "version": 3
   },
   "file_extension": ".py",
   "mimetype": "text/x-python",
   "name": "python",
   "nbconvert_exporter": "python",
   "pygments_lexer": "ipython3",
   "version": "3.6.4"
  }
 },
 "nbformat": 4,
 "nbformat_minor": 2
}
