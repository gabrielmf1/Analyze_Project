{
 "cells": [
  {
   "cell_type": "markdown",
   "metadata": {},
   "source": [
    "# Ciência dos Dados - Projeto 1\n",
    "\n",
    "\n",
    "** Nome:** Gabriel Miras Floriano\n",
    "\n",
    "**Pergunta:** Como uma elevada população urbana e um setor de serviços desenvolvido ﻿interferem no IDH?﻿"
   ]
  },
  {
   "cell_type": "markdown",
   "metadata": {},
   "source": [
    "# IDH, População Urbana e Setor de Serviços\n",
    "Foram coletados três dados do site https://www.gapminder.org/, sendo que um deles foi definido pelo professor e os outros dois foram de livre escolha dos alunos:\n",
    "\n",
    "1. IDH (Índice de Desenvolvimento Humano)\n",
    "2. População Urbana (% do total)\n",
    "3. Setor de Serviços (% do PIB)\n",
    "\n",
    "Nesses dataframes, as linhas representam os países e as colunas representam o ano.\n",
    "\n",
    "Como os arquivos estão separados, será preciso juntá-los cruzando o país, restringindo a análise do ano 2009."
   ]
  },
  {
   "cell_type": "markdown",
   "metadata": {},
   "source": [
    "## Imports ##"
   ]
  },
  {
   "cell_type": "code",
   "execution_count": 47,
   "metadata": {},
   "outputs": [],
   "source": [
    "import pandas as pd\n",
    "%matplotlib inline\n",
    "import matplotlib.pyplot as plt\n",
    "import matplotlib\n",
    "import numpy as np\n",
    "import seaborn as sns"
   ]
  },
  {
   "cell_type": "markdown",
   "metadata": {},
   "source": [
    "## Leitura dos arquivos"
   ]
  },
  {
   "cell_type": "code",
   "execution_count": 48,
   "metadata": {},
   "outputs": [],
   "source": [
    "#Leitura dos arquivos em excel\n",
    "hdi = pd.read_excel('Indicator_HDI.xlsx')\n",
    "UP = pd.read_excel('UP.xlsx')\n",
    "S = pd.read_excel('S.xlsx')"
   ]
  },
  {
   "cell_type": "markdown",
   "metadata": {},
   "source": [
    "# IDH\n",
    "\n",
    "É possível verificar que cada linha representa um país e as colunas representam o ano."
   ]
  },
  {
   "cell_type": "code",
   "execution_count": 49,
   "metadata": {},
   "outputs": [
    {
     "data": {
      "text/html": [
       "<div>\n",
       "<style scoped>\n",
       "    .dataframe tbody tr th:only-of-type {\n",
       "        vertical-align: middle;\n",
       "    }\n",
       "\n",
       "    .dataframe tbody tr th {\n",
       "        vertical-align: top;\n",
       "    }\n",
       "\n",
       "    .dataframe thead th {\n",
       "        text-align: right;\n",
       "    }\n",
       "</style>\n",
       "<table border=\"1\" class=\"dataframe\">\n",
       "  <thead>\n",
       "    <tr style=\"text-align: right;\">\n",
       "      <th></th>\n",
       "      <th>País</th>\n",
       "      <th>IDH em 2009</th>\n",
       "    </tr>\n",
       "  </thead>\n",
       "  <tbody>\n",
       "    <tr>\n",
       "      <th>0</th>\n",
       "      <td>Abkhazia</td>\n",
       "      <td>NaN</td>\n",
       "    </tr>\n",
       "    <tr>\n",
       "      <th>1</th>\n",
       "      <td>Afghanistan</td>\n",
       "      <td>0.387</td>\n",
       "    </tr>\n",
       "    <tr>\n",
       "      <th>2</th>\n",
       "      <td>Akrotiri and Dhekelia</td>\n",
       "      <td>NaN</td>\n",
       "    </tr>\n",
       "    <tr>\n",
       "      <th>3</th>\n",
       "      <td>Albania</td>\n",
       "      <td>0.734</td>\n",
       "    </tr>\n",
       "    <tr>\n",
       "      <th>4</th>\n",
       "      <td>Algeria</td>\n",
       "      <td>0.691</td>\n",
       "    </tr>\n",
       "    <tr>\n",
       "      <th>5</th>\n",
       "      <td>American Samoa</td>\n",
       "      <td>NaN</td>\n",
       "    </tr>\n",
       "    <tr>\n",
       "      <th>6</th>\n",
       "      <td>Andorra</td>\n",
       "      <td>NaN</td>\n",
       "    </tr>\n",
       "    <tr>\n",
       "      <th>7</th>\n",
       "      <td>Angola</td>\n",
       "      <td>0.481</td>\n",
       "    </tr>\n",
       "    <tr>\n",
       "      <th>8</th>\n",
       "      <td>Anguilla</td>\n",
       "      <td>NaN</td>\n",
       "    </tr>\n",
       "    <tr>\n",
       "      <th>9</th>\n",
       "      <td>Antigua and Barbuda</td>\n",
       "      <td>NaN</td>\n",
       "    </tr>\n",
       "  </tbody>\n",
       "</table>\n",
       "</div>"
      ],
      "text/plain": [
       "                    País  IDH em 2009\n",
       "0               Abkhazia          NaN\n",
       "1            Afghanistan        0.387\n",
       "2  Akrotiri and Dhekelia          NaN\n",
       "3                Albania        0.734\n",
       "4                Algeria        0.691\n",
       "5         American Samoa          NaN\n",
       "6                Andorra          NaN\n",
       "7                 Angola        0.481\n",
       "8               Anguilla          NaN\n",
       "9    Antigua and Barbuda          NaN"
      ]
     },
     "execution_count": 49,
     "metadata": {},
     "output_type": "execute_result"
    }
   ],
   "source": [
    "hdi= hdi.loc[:, [\"HDI\", 2009]]\n",
    "hdi = hdi.rename(columns = {'HDI':'País', 2009:'IDH em 2009'})\n",
    "hdi.head(10)"
   ]
  },
  {
   "cell_type": "markdown",
   "metadata": {},
   "source": [
    "# População Urbana\n",
    "\n",
    "É possível verificar que cada linha representa um país e as colunas representam o ano."
   ]
  },
  {
   "cell_type": "code",
   "execution_count": 50,
   "metadata": {},
   "outputs": [
    {
     "data": {
      "text/html": [
       "<div>\n",
       "<style scoped>\n",
       "    .dataframe tbody tr th:only-of-type {\n",
       "        vertical-align: middle;\n",
       "    }\n",
       "\n",
       "    .dataframe tbody tr th {\n",
       "        vertical-align: top;\n",
       "    }\n",
       "\n",
       "    .dataframe thead th {\n",
       "        text-align: right;\n",
       "    }\n",
       "</style>\n",
       "<table border=\"1\" class=\"dataframe\">\n",
       "  <thead>\n",
       "    <tr style=\"text-align: right;\">\n",
       "      <th></th>\n",
       "      <th>País</th>\n",
       "      <th>População Urbana em 2009</th>\n",
       "    </tr>\n",
       "  </thead>\n",
       "  <tbody>\n",
       "    <tr>\n",
       "      <th>0</th>\n",
       "      <td>Abkhazia</td>\n",
       "      <td>NaN</td>\n",
       "    </tr>\n",
       "    <tr>\n",
       "      <th>1</th>\n",
       "      <td>Afghanistan</td>\n",
       "      <td>22.9676</td>\n",
       "    </tr>\n",
       "    <tr>\n",
       "      <th>2</th>\n",
       "      <td>Akrotiri and Dhekelia</td>\n",
       "      <td>NaN</td>\n",
       "    </tr>\n",
       "    <tr>\n",
       "      <th>3</th>\n",
       "      <td>Albania</td>\n",
       "      <td>51.2184</td>\n",
       "    </tr>\n",
       "    <tr>\n",
       "      <th>4</th>\n",
       "      <td>Algeria</td>\n",
       "      <td>70.9570</td>\n",
       "    </tr>\n",
       "    <tr>\n",
       "      <th>5</th>\n",
       "      <td>American Samoa</td>\n",
       "      <td>92.6390</td>\n",
       "    </tr>\n",
       "    <tr>\n",
       "      <th>6</th>\n",
       "      <td>Andorra</td>\n",
       "      <td>88.3126</td>\n",
       "    </tr>\n",
       "    <tr>\n",
       "      <th>7</th>\n",
       "      <td>Angola</td>\n",
       "      <td>57.4918</td>\n",
       "    </tr>\n",
       "    <tr>\n",
       "      <th>8</th>\n",
       "      <td>Anguilla</td>\n",
       "      <td>NaN</td>\n",
       "    </tr>\n",
       "    <tr>\n",
       "      <th>9</th>\n",
       "      <td>Antigua and Barbuda</td>\n",
       "      <td>30.0322</td>\n",
       "    </tr>\n",
       "  </tbody>\n",
       "</table>\n",
       "</div>"
      ],
      "text/plain": [
       "                    País  População Urbana em 2009\n",
       "0               Abkhazia                       NaN\n",
       "1            Afghanistan                   22.9676\n",
       "2  Akrotiri and Dhekelia                       NaN\n",
       "3                Albania                   51.2184\n",
       "4                Algeria                   70.9570\n",
       "5         American Samoa                   92.6390\n",
       "6                Andorra                   88.3126\n",
       "7                 Angola                   57.4918\n",
       "8               Anguilla                       NaN\n",
       "9    Antigua and Barbuda                   30.0322"
      ]
     },
     "execution_count": 50,
     "metadata": {},
     "output_type": "execute_result"
    }
   ],
   "source": [
    "UP= UP.loc[:, [\"Urban population (% of total)\", '2009']]\n",
    "UP = UP.rename(columns = {\"Urban population (% of total)\":'País', '2009':'População Urbana em 2009'})\n",
    "UP.head(10)"
   ]
  },
  {
   "cell_type": "markdown",
   "metadata": {},
   "source": [
    "# Setor de Serviços\n",
    "\n",
    "É possível verificar que cada linha representa um país e as colunas representam o ano."
   ]
  },
  {
   "cell_type": "code",
   "execution_count": 51,
   "metadata": {},
   "outputs": [
    {
     "data": {
      "text/html": [
       "<div>\n",
       "<style scoped>\n",
       "    .dataframe tbody tr th:only-of-type {\n",
       "        vertical-align: middle;\n",
       "    }\n",
       "\n",
       "    .dataframe tbody tr th {\n",
       "        vertical-align: top;\n",
       "    }\n",
       "\n",
       "    .dataframe thead th {\n",
       "        text-align: right;\n",
       "    }\n",
       "</style>\n",
       "<table border=\"1\" class=\"dataframe\">\n",
       "  <thead>\n",
       "    <tr style=\"text-align: right;\">\n",
       "      <th></th>\n",
       "      <th>País</th>\n",
       "      <th>Setor de Serviços em 2009</th>\n",
       "    </tr>\n",
       "  </thead>\n",
       "  <tbody>\n",
       "    <tr>\n",
       "      <th>0</th>\n",
       "      <td>Afghanistan</td>\n",
       "      <td>47.607657</td>\n",
       "    </tr>\n",
       "    <tr>\n",
       "      <th>1</th>\n",
       "      <td>Albania</td>\n",
       "      <td>60.239255</td>\n",
       "    </tr>\n",
       "    <tr>\n",
       "      <th>2</th>\n",
       "      <td>Algeria</td>\n",
       "      <td>30.960967</td>\n",
       "    </tr>\n",
       "    <tr>\n",
       "      <th>3</th>\n",
       "      <td>American Samoa</td>\n",
       "      <td>NaN</td>\n",
       "    </tr>\n",
       "    <tr>\n",
       "      <th>4</th>\n",
       "      <td>Andorra</td>\n",
       "      <td>NaN</td>\n",
       "    </tr>\n",
       "    <tr>\n",
       "      <th>5</th>\n",
       "      <td>Angola</td>\n",
       "      <td>30.751248</td>\n",
       "    </tr>\n",
       "    <tr>\n",
       "      <th>6</th>\n",
       "      <td>Antigua and Barbuda</td>\n",
       "      <td>76.285758</td>\n",
       "    </tr>\n",
       "    <tr>\n",
       "      <th>7</th>\n",
       "      <td>Argentina</td>\n",
       "      <td>60.697484</td>\n",
       "    </tr>\n",
       "    <tr>\n",
       "      <th>8</th>\n",
       "      <td>Armenia</td>\n",
       "      <td>45.280450</td>\n",
       "    </tr>\n",
       "    <tr>\n",
       "      <th>9</th>\n",
       "      <td>Aruba</td>\n",
       "      <td>NaN</td>\n",
       "    </tr>\n",
       "  </tbody>\n",
       "</table>\n",
       "</div>"
      ],
      "text/plain": [
       "                  País  Setor de Serviços em 2009\n",
       "0          Afghanistan                  47.607657\n",
       "1              Albania                  60.239255\n",
       "2              Algeria                  30.960967\n",
       "3       American Samoa                        NaN\n",
       "4              Andorra                        NaN\n",
       "5               Angola                  30.751248\n",
       "6  Antigua and Barbuda                  76.285758\n",
       "7            Argentina                  60.697484\n",
       "8              Armenia                  45.280450\n",
       "9                Aruba                        NaN"
      ]
     },
     "execution_count": 51,
     "metadata": {},
     "output_type": "execute_result"
    }
   ],
   "source": [
    "S= S.loc[:, [\"Services, etc., value added (% of GDP)\", '2009']]\n",
    "S = S.rename(columns = {'Services, etc., value added (% of GDP)':'País', '2009':'Setor de Serviços em 2009'})\n",
    "S.head(10)"
   ]
  },
  {
   "cell_type": "markdown",
   "metadata": {},
   "source": [
    "# Junção das tabelas"
   ]
  },
  {
   "cell_type": "code",
   "execution_count": 52,
   "metadata": {},
   "outputs": [
    {
     "data": {
      "text/html": [
       "<div>\n",
       "<style scoped>\n",
       "    .dataframe tbody tr th:only-of-type {\n",
       "        vertical-align: middle;\n",
       "    }\n",
       "\n",
       "    .dataframe tbody tr th {\n",
       "        vertical-align: top;\n",
       "    }\n",
       "\n",
       "    .dataframe thead th {\n",
       "        text-align: right;\n",
       "    }\n",
       "</style>\n",
       "<table border=\"1\" class=\"dataframe\">\n",
       "  <thead>\n",
       "    <tr style=\"text-align: right;\">\n",
       "      <th></th>\n",
       "      <th>Paíshdi</th>\n",
       "      <th>IDH em 2009</th>\n",
       "      <th>País2009</th>\n",
       "      <th>População Urbana em 2009</th>\n",
       "    </tr>\n",
       "  </thead>\n",
       "  <tbody>\n",
       "    <tr>\n",
       "      <th>0</th>\n",
       "      <td>Abkhazia</td>\n",
       "      <td>NaN</td>\n",
       "      <td>Abkhazia</td>\n",
       "      <td>NaN</td>\n",
       "    </tr>\n",
       "    <tr>\n",
       "      <th>1</th>\n",
       "      <td>Afghanistan</td>\n",
       "      <td>0.387</td>\n",
       "      <td>Afghanistan</td>\n",
       "      <td>22.9676</td>\n",
       "    </tr>\n",
       "    <tr>\n",
       "      <th>2</th>\n",
       "      <td>Akrotiri and Dhekelia</td>\n",
       "      <td>NaN</td>\n",
       "      <td>Akrotiri and Dhekelia</td>\n",
       "      <td>NaN</td>\n",
       "    </tr>\n",
       "    <tr>\n",
       "      <th>3</th>\n",
       "      <td>Albania</td>\n",
       "      <td>0.734</td>\n",
       "      <td>Albania</td>\n",
       "      <td>51.2184</td>\n",
       "    </tr>\n",
       "    <tr>\n",
       "      <th>4</th>\n",
       "      <td>Algeria</td>\n",
       "      <td>0.691</td>\n",
       "      <td>Algeria</td>\n",
       "      <td>70.9570</td>\n",
       "    </tr>\n",
       "    <tr>\n",
       "      <th>5</th>\n",
       "      <td>American Samoa</td>\n",
       "      <td>NaN</td>\n",
       "      <td>American Samoa</td>\n",
       "      <td>92.6390</td>\n",
       "    </tr>\n",
       "    <tr>\n",
       "      <th>6</th>\n",
       "      <td>Andorra</td>\n",
       "      <td>NaN</td>\n",
       "      <td>Andorra</td>\n",
       "      <td>88.3126</td>\n",
       "    </tr>\n",
       "    <tr>\n",
       "      <th>7</th>\n",
       "      <td>Angola</td>\n",
       "      <td>0.481</td>\n",
       "      <td>Angola</td>\n",
       "      <td>57.4918</td>\n",
       "    </tr>\n",
       "    <tr>\n",
       "      <th>8</th>\n",
       "      <td>Anguilla</td>\n",
       "      <td>NaN</td>\n",
       "      <td>Anguilla</td>\n",
       "      <td>NaN</td>\n",
       "    </tr>\n",
       "    <tr>\n",
       "      <th>9</th>\n",
       "      <td>Antigua and Barbuda</td>\n",
       "      <td>NaN</td>\n",
       "      <td>Antigua and Barbuda</td>\n",
       "      <td>30.0322</td>\n",
       "    </tr>\n",
       "    <tr>\n",
       "      <th>10</th>\n",
       "      <td>Argentina</td>\n",
       "      <td>0.788</td>\n",
       "      <td>Argentina</td>\n",
       "      <td>92.1556</td>\n",
       "    </tr>\n",
       "    <tr>\n",
       "      <th>11</th>\n",
       "      <td>Armenia</td>\n",
       "      <td>0.712</td>\n",
       "      <td>Armenia</td>\n",
       "      <td>64.0896</td>\n",
       "    </tr>\n",
       "    <tr>\n",
       "      <th>12</th>\n",
       "      <td>Aruba</td>\n",
       "      <td>NaN</td>\n",
       "      <td>Aruba</td>\n",
       "      <td>46.7416</td>\n",
       "    </tr>\n",
       "    <tr>\n",
       "      <th>13</th>\n",
       "      <td>Australia</td>\n",
       "      <td>0.926</td>\n",
       "      <td>Australia</td>\n",
       "      <td>88.8732</td>\n",
       "    </tr>\n",
       "    <tr>\n",
       "      <th>14</th>\n",
       "      <td>Austria</td>\n",
       "      <td>0.879</td>\n",
       "      <td>Austria</td>\n",
       "      <td>67.2700</td>\n",
       "    </tr>\n",
       "    <tr>\n",
       "      <th>15</th>\n",
       "      <td>Azerbaijan</td>\n",
       "      <td>NaN</td>\n",
       "      <td>Azerbaijan</td>\n",
       "      <td>53.1986</td>\n",
       "    </tr>\n",
       "    <tr>\n",
       "      <th>16</th>\n",
       "      <td>Bahamas</td>\n",
       "      <td>0.769</td>\n",
       "      <td>Bahamas</td>\n",
       "      <td>83.8648</td>\n",
       "    </tr>\n",
       "    <tr>\n",
       "      <th>17</th>\n",
       "      <td>Bahrain</td>\n",
       "      <td>0.805</td>\n",
       "      <td>Bahrain</td>\n",
       "      <td>88.5782</td>\n",
       "    </tr>\n",
       "    <tr>\n",
       "      <th>18</th>\n",
       "      <td>Bangladesh</td>\n",
       "      <td>0.491</td>\n",
       "      <td>Bangladesh</td>\n",
       "      <td>27.4424</td>\n",
       "    </tr>\n",
       "    <tr>\n",
       "      <th>19</th>\n",
       "      <td>Barbados</td>\n",
       "      <td>0.790</td>\n",
       "      <td>Barbados</td>\n",
       "      <td>43.3476</td>\n",
       "    </tr>\n",
       "    <tr>\n",
       "      <th>20</th>\n",
       "      <td>Belarus</td>\n",
       "      <td>0.746</td>\n",
       "      <td>Belarus</td>\n",
       "      <td>74.1628</td>\n",
       "    </tr>\n",
       "  </tbody>\n",
       "</table>\n",
       "</div>"
      ],
      "text/plain": [
       "                  Paíshdi  IDH em 2009               País2009  \\\n",
       "0                Abkhazia          NaN               Abkhazia   \n",
       "1             Afghanistan        0.387            Afghanistan   \n",
       "2   Akrotiri and Dhekelia          NaN  Akrotiri and Dhekelia   \n",
       "3                 Albania        0.734                Albania   \n",
       "4                 Algeria        0.691                Algeria   \n",
       "5          American Samoa          NaN         American Samoa   \n",
       "6                 Andorra          NaN                Andorra   \n",
       "7                  Angola        0.481                 Angola   \n",
       "8                Anguilla          NaN               Anguilla   \n",
       "9     Antigua and Barbuda          NaN    Antigua and Barbuda   \n",
       "10              Argentina        0.788              Argentina   \n",
       "11                Armenia        0.712                Armenia   \n",
       "12                  Aruba          NaN                  Aruba   \n",
       "13              Australia        0.926              Australia   \n",
       "14                Austria        0.879                Austria   \n",
       "15             Azerbaijan          NaN             Azerbaijan   \n",
       "16                Bahamas        0.769                Bahamas   \n",
       "17                Bahrain        0.805                Bahrain   \n",
       "18             Bangladesh        0.491             Bangladesh   \n",
       "19               Barbados        0.790               Barbados   \n",
       "20                Belarus        0.746                Belarus   \n",
       "\n",
       "    População Urbana em 2009  \n",
       "0                        NaN  \n",
       "1                    22.9676  \n",
       "2                        NaN  \n",
       "3                    51.2184  \n",
       "4                    70.9570  \n",
       "5                    92.6390  \n",
       "6                    88.3126  \n",
       "7                    57.4918  \n",
       "8                        NaN  \n",
       "9                    30.0322  \n",
       "10                   92.1556  \n",
       "11                   64.0896  \n",
       "12                   46.7416  \n",
       "13                   88.8732  \n",
       "14                   67.2700  \n",
       "15                   53.1986  \n",
       "16                   83.8648  \n",
       "17                   88.5782  \n",
       "18                   27.4424  \n",
       "19                   43.3476  \n",
       "20                   74.1628  "
      ]
     },
     "execution_count": 52,
     "metadata": {},
     "output_type": "execute_result"
    }
   ],
   "source": [
    "df = hdi.join(UP, how='inner', lsuffix='hdi', rsuffix='2009')\n",
    "df.head(21)"
   ]
  },
  {
   "cell_type": "code",
   "execution_count": 53,
   "metadata": {
    "scrolled": true
   },
   "outputs": [
    {
     "data": {
      "text/html": [
       "<div>\n",
       "<style scoped>\n",
       "    .dataframe tbody tr th:only-of-type {\n",
       "        vertical-align: middle;\n",
       "    }\n",
       "\n",
       "    .dataframe tbody tr th {\n",
       "        vertical-align: top;\n",
       "    }\n",
       "\n",
       "    .dataframe thead th {\n",
       "        text-align: right;\n",
       "    }\n",
       "</style>\n",
       "<table border=\"1\" class=\"dataframe\">\n",
       "  <thead>\n",
       "    <tr style=\"text-align: right;\">\n",
       "      <th></th>\n",
       "      <th>Paíshdi</th>\n",
       "      <th>IDH em 2009</th>\n",
       "      <th>País2009</th>\n",
       "      <th>População Urbana em 2009</th>\n",
       "      <th>País</th>\n",
       "      <th>Setor de Serviços em 2009</th>\n",
       "    </tr>\n",
       "  </thead>\n",
       "  <tbody>\n",
       "    <tr>\n",
       "      <th>0</th>\n",
       "      <td>Abkhazia</td>\n",
       "      <td>NaN</td>\n",
       "      <td>Abkhazia</td>\n",
       "      <td>NaN</td>\n",
       "      <td>Afghanistan</td>\n",
       "      <td>47.607657</td>\n",
       "    </tr>\n",
       "    <tr>\n",
       "      <th>1</th>\n",
       "      <td>Afghanistan</td>\n",
       "      <td>0.387</td>\n",
       "      <td>Afghanistan</td>\n",
       "      <td>22.9676</td>\n",
       "      <td>Albania</td>\n",
       "      <td>60.239255</td>\n",
       "    </tr>\n",
       "    <tr>\n",
       "      <th>2</th>\n",
       "      <td>Akrotiri and Dhekelia</td>\n",
       "      <td>NaN</td>\n",
       "      <td>Akrotiri and Dhekelia</td>\n",
       "      <td>NaN</td>\n",
       "      <td>Algeria</td>\n",
       "      <td>30.960967</td>\n",
       "    </tr>\n",
       "    <tr>\n",
       "      <th>3</th>\n",
       "      <td>Albania</td>\n",
       "      <td>0.734</td>\n",
       "      <td>Albania</td>\n",
       "      <td>51.2184</td>\n",
       "      <td>American Samoa</td>\n",
       "      <td>NaN</td>\n",
       "    </tr>\n",
       "    <tr>\n",
       "      <th>4</th>\n",
       "      <td>Algeria</td>\n",
       "      <td>0.691</td>\n",
       "      <td>Algeria</td>\n",
       "      <td>70.9570</td>\n",
       "      <td>Andorra</td>\n",
       "      <td>NaN</td>\n",
       "    </tr>\n",
       "    <tr>\n",
       "      <th>5</th>\n",
       "      <td>American Samoa</td>\n",
       "      <td>NaN</td>\n",
       "      <td>American Samoa</td>\n",
       "      <td>92.6390</td>\n",
       "      <td>Angola</td>\n",
       "      <td>30.751248</td>\n",
       "    </tr>\n",
       "    <tr>\n",
       "      <th>6</th>\n",
       "      <td>Andorra</td>\n",
       "      <td>NaN</td>\n",
       "      <td>Andorra</td>\n",
       "      <td>88.3126</td>\n",
       "      <td>Antigua and Barbuda</td>\n",
       "      <td>76.285758</td>\n",
       "    </tr>\n",
       "    <tr>\n",
       "      <th>7</th>\n",
       "      <td>Angola</td>\n",
       "      <td>0.481</td>\n",
       "      <td>Angola</td>\n",
       "      <td>57.4918</td>\n",
       "      <td>Argentina</td>\n",
       "      <td>60.697484</td>\n",
       "    </tr>\n",
       "    <tr>\n",
       "      <th>8</th>\n",
       "      <td>Anguilla</td>\n",
       "      <td>NaN</td>\n",
       "      <td>Anguilla</td>\n",
       "      <td>NaN</td>\n",
       "      <td>Armenia</td>\n",
       "      <td>45.280450</td>\n",
       "    </tr>\n",
       "    <tr>\n",
       "      <th>9</th>\n",
       "      <td>Antigua and Barbuda</td>\n",
       "      <td>NaN</td>\n",
       "      <td>Antigua and Barbuda</td>\n",
       "      <td>30.0322</td>\n",
       "      <td>Aruba</td>\n",
       "      <td>NaN</td>\n",
       "    </tr>\n",
       "    <tr>\n",
       "      <th>10</th>\n",
       "      <td>Argentina</td>\n",
       "      <td>0.788</td>\n",
       "      <td>Argentina</td>\n",
       "      <td>92.1556</td>\n",
       "      <td>Australia</td>\n",
       "      <td>76.374114</td>\n",
       "    </tr>\n",
       "    <tr>\n",
       "      <th>11</th>\n",
       "      <td>Armenia</td>\n",
       "      <td>0.712</td>\n",
       "      <td>Armenia</td>\n",
       "      <td>64.0896</td>\n",
       "      <td>Austria</td>\n",
       "      <td>69.354040</td>\n",
       "    </tr>\n",
       "    <tr>\n",
       "      <th>12</th>\n",
       "      <td>Aruba</td>\n",
       "      <td>NaN</td>\n",
       "      <td>Aruba</td>\n",
       "      <td>46.7416</td>\n",
       "      <td>Azerbaijan</td>\n",
       "      <td>32.268935</td>\n",
       "    </tr>\n",
       "    <tr>\n",
       "      <th>13</th>\n",
       "      <td>Australia</td>\n",
       "      <td>0.926</td>\n",
       "      <td>Australia</td>\n",
       "      <td>88.8732</td>\n",
       "      <td>Bahamas</td>\n",
       "      <td>83.582767</td>\n",
       "    </tr>\n",
       "    <tr>\n",
       "      <th>14</th>\n",
       "      <td>Austria</td>\n",
       "      <td>0.879</td>\n",
       "      <td>Austria</td>\n",
       "      <td>67.2700</td>\n",
       "      <td>Bahrain</td>\n",
       "      <td>NaN</td>\n",
       "    </tr>\n",
       "    <tr>\n",
       "      <th>15</th>\n",
       "      <td>Azerbaijan</td>\n",
       "      <td>NaN</td>\n",
       "      <td>Azerbaijan</td>\n",
       "      <td>53.1986</td>\n",
       "      <td>Bangladesh</td>\n",
       "      <td>52.614079</td>\n",
       "    </tr>\n",
       "    <tr>\n",
       "      <th>16</th>\n",
       "      <td>Bahamas</td>\n",
       "      <td>0.769</td>\n",
       "      <td>Bahamas</td>\n",
       "      <td>83.8648</td>\n",
       "      <td>Barbados</td>\n",
       "      <td>73.762524</td>\n",
       "    </tr>\n",
       "    <tr>\n",
       "      <th>17</th>\n",
       "      <td>Bahrain</td>\n",
       "      <td>0.805</td>\n",
       "      <td>Bahrain</td>\n",
       "      <td>88.5782</td>\n",
       "      <td>Belarus</td>\n",
       "      <td>48.290299</td>\n",
       "    </tr>\n",
       "    <tr>\n",
       "      <th>18</th>\n",
       "      <td>Bangladesh</td>\n",
       "      <td>0.491</td>\n",
       "      <td>Bangladesh</td>\n",
       "      <td>27.4424</td>\n",
       "      <td>Belgium</td>\n",
       "      <td>77.691864</td>\n",
       "    </tr>\n",
       "    <tr>\n",
       "      <th>19</th>\n",
       "      <td>Barbados</td>\n",
       "      <td>0.790</td>\n",
       "      <td>Barbados</td>\n",
       "      <td>43.3476</td>\n",
       "      <td>Belize</td>\n",
       "      <td>NaN</td>\n",
       "    </tr>\n",
       "    <tr>\n",
       "      <th>20</th>\n",
       "      <td>Belarus</td>\n",
       "      <td>0.746</td>\n",
       "      <td>Belarus</td>\n",
       "      <td>74.1628</td>\n",
       "      <td>Benin</td>\n",
       "      <td>NaN</td>\n",
       "    </tr>\n",
       "  </tbody>\n",
       "</table>\n",
       "</div>"
      ],
      "text/plain": [
       "                  Paíshdi  IDH em 2009               País2009  \\\n",
       "0                Abkhazia          NaN               Abkhazia   \n",
       "1             Afghanistan        0.387            Afghanistan   \n",
       "2   Akrotiri and Dhekelia          NaN  Akrotiri and Dhekelia   \n",
       "3                 Albania        0.734                Albania   \n",
       "4                 Algeria        0.691                Algeria   \n",
       "5          American Samoa          NaN         American Samoa   \n",
       "6                 Andorra          NaN                Andorra   \n",
       "7                  Angola        0.481                 Angola   \n",
       "8                Anguilla          NaN               Anguilla   \n",
       "9     Antigua and Barbuda          NaN    Antigua and Barbuda   \n",
       "10              Argentina        0.788              Argentina   \n",
       "11                Armenia        0.712                Armenia   \n",
       "12                  Aruba          NaN                  Aruba   \n",
       "13              Australia        0.926              Australia   \n",
       "14                Austria        0.879                Austria   \n",
       "15             Azerbaijan          NaN             Azerbaijan   \n",
       "16                Bahamas        0.769                Bahamas   \n",
       "17                Bahrain        0.805                Bahrain   \n",
       "18             Bangladesh        0.491             Bangladesh   \n",
       "19               Barbados        0.790               Barbados   \n",
       "20                Belarus        0.746                Belarus   \n",
       "\n",
       "    População Urbana em 2009                 País  Setor de Serviços em 2009  \n",
       "0                        NaN          Afghanistan                  47.607657  \n",
       "1                    22.9676              Albania                  60.239255  \n",
       "2                        NaN              Algeria                  30.960967  \n",
       "3                    51.2184       American Samoa                        NaN  \n",
       "4                    70.9570              Andorra                        NaN  \n",
       "5                    92.6390               Angola                  30.751248  \n",
       "6                    88.3126  Antigua and Barbuda                  76.285758  \n",
       "7                    57.4918            Argentina                  60.697484  \n",
       "8                        NaN              Armenia                  45.280450  \n",
       "9                    30.0322                Aruba                        NaN  \n",
       "10                   92.1556            Australia                  76.374114  \n",
       "11                   64.0896              Austria                  69.354040  \n",
       "12                   46.7416           Azerbaijan                  32.268935  \n",
       "13                   88.8732              Bahamas                  83.582767  \n",
       "14                   67.2700              Bahrain                        NaN  \n",
       "15                   53.1986           Bangladesh                  52.614079  \n",
       "16                   83.8648             Barbados                  73.762524  \n",
       "17                   88.5782              Belarus                  48.290299  \n",
       "18                   27.4424              Belgium                  77.691864  \n",
       "19                   43.3476               Belize                        NaN  \n",
       "20                   74.1628                Benin                        NaN  "
      ]
     },
     "execution_count": 53,
     "metadata": {},
     "output_type": "execute_result"
    }
   ],
   "source": [
    "data = df.join(S, how=\"inner\", lsuffix = ' ', rsuffix = ' ')\n",
    "data.head(21)"
   ]
  },
  {
   "cell_type": "code",
   "execution_count": 54,
   "metadata": {},
   "outputs": [],
   "source": [
    "writer = pd.ExcelWriter('Projeto1.xlsx')\n",
    "data.to_excel(writer,'data')\n",
    "writer.save()"
   ]
  },
  {
   "cell_type": "markdown",
   "metadata": {},
   "source": [
    "# Gráficos"
   ]
  },
  {
   "cell_type": "code",
   "execution_count": 55,
   "metadata": {},
   "outputs": [
    {
     "name": "stdout",
     "output_type": "stream",
     "text": [
      "A correlação entre o IDH em 2009 e a população urbana em 2009 é: 0.7636087451596548\n"
     ]
    },
    {
     "data": {
      "image/png": "[encoded data removed]",
      "text/plain": [
       "<matplotlib.figure.Figure at 0x2bf695c0160>"
      ]
     },
     "metadata": {},
     "output_type": "display_data"
    }
   ],
   "source": [
    "data.plot.scatter(x='População Urbana em 2009',y='IDH em 2009');\n",
    "sns.regplot(data[\"População Urbana em 2009\"],data[\"IDH em 2009\"], color=('turquoise'))\n",
    "plt.axis([10, 100, 0.2, 1])\n",
    "plt.grid()\n",
    "print('A correlação entre o IDH em 2009 e a população urbana em 2009 é:', data['IDH em 2009'].corr(data['População Urbana em 2009']))"
   ]
  },
  {
   "cell_type": "code",
   "execution_count": 56,
   "metadata": {},
   "outputs": [
    {
     "name": "stdout",
     "output_type": "stream",
     "text": [
      "A correlação entre o IDH em 2009 e o setor de serviços em 2009 é: 0.021909223026682162\n"
     ]
    },
    {
     "data": {
      "image/png": "[encoded data removed]",
      "text/plain": [
       "<matplotlib.figure.Figure at 0x2bf69608da0>"
      ]
     },
     "metadata": {},
     "output_type": "display_data"
    }
   ],
   "source": [
    "data.plot.scatter(x='Setor de Serviços em 2009',y='IDH em 2009');\n",
    "sns.regplot(data[\"Setor de Serviços em 2009\"],data[\"IDH em 2009\"], color=('indigo'))\n",
    "plt.axis([10, 100, 0.2, 1])\n",
    "plt.grid()\n",
    "print('A correlação entre o IDH em 2009 e o setor de serviços em 2009 é:', data['IDH em 2009'].corr(data['Setor de Serviços em 2009']))"
   ]
  },
  {
   "cell_type": "code",
   "execution_count": 57,
   "metadata": {},
   "outputs": [
    {
     "name": "stdout",
     "output_type": "stream",
     "text": [
      "A correlação entre o setor de serviços em 2009 e a população Urbana em 2009  é: 0.009760147212070417\n"
     ]
    },
    {
     "data": {
      "image/png": "[encoded data removed]",
      "text/plain": [
       "<matplotlib.figure.Figure at 0x2bf695baeb8>"
      ]
     },
     "metadata": {},
     "output_type": "display_data"
    }
   ],
   "source": [
    "data.plot.scatter(x='Setor de Serviços em 2009',y='População Urbana em 2009');\n",
    "sns.regplot(data[\"Setor de Serviços em 2009\"],data[\"População Urbana em 2009\"], color=('goldenrod'))\n",
    "plt.grid()\n",
    "print('A correlação entre o setor de serviços em 2009 e a população Urbana em 2009  é:', data['Setor de Serviços em 2009'].corr(data['População Urbana em 2009']))"
   ]
  },
  {
   "cell_type": "code",
   "execution_count": 58,
   "metadata": {},
   "outputs": [
    {
     "data": {
      "text/plain": [
       "<matplotlib.axes._subplots.AxesSubplot at 0x2bf68557d30>"
      ]
     },
     "execution_count": 58,
     "metadata": {},
     "output_type": "execute_result"
    },
    {
     "data": {
      "image/png": "[encoded data removed]",
      "text/plain": [
       "<matplotlib.figure.Figure at 0x2bf694d16a0>"
      ]
     },
     "metadata": {},
     "output_type": "display_data"
    }
   ],
   "source": [
    "data.loc[:, 'População Urbana em 2009'].plot.box()"
   ]
  },
  {
   "cell_type": "code",
   "execution_count": 59,
   "metadata": {},
   "outputs": [
    {
     "data": {
      "text/plain": [
       "<matplotlib.axes._subplots.AxesSubplot at 0x2bf63938390>"
      ]
     },
     "execution_count": 59,
     "metadata": {},
     "output_type": "execute_result"
    },
    {
     "data": {
      "image/png": "[encoded data removed]",
      "text/plain": [
       "<matplotlib.figure.Figure at 0x2bf68271550>"
      ]
     },
     "metadata": {},
     "output_type": "display_data"
    }
   ],
   "source": [
    "data.loc[:, 'Setor de Serviços em 2009'].plot.box()"
   ]
  },
  {
   "cell_type": "code",
   "execution_count": 60,
   "metadata": {
    "scrolled": true
   },
   "outputs": [
    {
     "data": {
      "text/plain": [
       "<matplotlib.axes._subplots.AxesSubplot at 0x2bf68ca37f0>"
      ]
     },
     "execution_count": 60,
     "metadata": {},
     "output_type": "execute_result"
    },
    {
     "data": {
      "image/png": "[encoded data removed]",
      "text/plain": [
       "<matplotlib.figure.Figure at 0x2bf68ff50b8>"
      ]
     },
     "metadata": {},
     "output_type": "display_data"
    }
   ],
   "source": [
    "data.loc[:, 'IDH em 2009'].plot.box()"
   ]
  },
  {
   "cell_type": "code",
   "execution_count": 66,
   "metadata": {
    "scrolled": true
   },
   "outputs": [
    {
     "data": {
      "text/plain": [
       "count    174.000000\n",
       "mean       0.654805\n",
       "std        0.175577\n",
       "min        0.277000\n",
       "25%        0.503250\n",
       "50%        0.690500\n",
       "75%        0.789500\n",
       "max        0.941000\n",
       "Name: IDH em 2009, dtype: float64"
      ]
     },
     "execution_count": 66,
     "metadata": {},
     "output_type": "execute_result"
    },
    {
     "data": {
      "image/png": "[encoded data removed]",
      "text/plain": [
       "<matplotlib.figure.Figure at 0x2bf6a826860>"
      ]
     },
     "metadata": {},
     "output_type": "display_data"
    }
   ],
   "source": [
    "hdi[\"IDH em 2009\"].plot.hist(density = True)\n",
    "hdi[\"IDH em 2009\"].describe()"
   ]
  },
  {
   "cell_type": "code",
   "execution_count": 65,
   "metadata": {},
   "outputs": [
    {
     "data": {
      "text/plain": [
       "count    210.000000\n",
       "mean      57.098692\n",
       "std       24.323422\n",
       "min       10.388600\n",
       "25%       37.113300\n",
       "50%       57.149500\n",
       "75%       76.224700\n",
       "max      100.000000\n",
       "Name: População Urbana em 2009, dtype: float64"
      ]
     },
     "execution_count": 65,
     "metadata": {},
     "output_type": "execute_result"
    },
    {
     "data": {
      "image/png": "[encoded data removed]",
      "text/plain": [
       "<matplotlib.figure.Figure at 0x2bf6a7bd588>"
      ]
     },
     "metadata": {},
     "output_type": "display_data"
    }
   ],
   "source": [
    "UP[\"População Urbana em 2009\"].plot.hist(density = True)\n",
    "UP[\"População Urbana em 2009\"].describe()"
   ]
  },
  {
   "cell_type": "code",
   "execution_count": 64,
   "metadata": {},
   "outputs": [
    {
     "data": {
      "text/plain": [
       "count    155.000000\n",
       "mean      58.641040\n",
       "std       15.203684\n",
       "min        4.218024\n",
       "25%       48.644383\n",
       "50%       60.434222\n",
       "75%       69.561898\n",
       "max       92.568209\n",
       "Name: Setor de Serviços em 2009, dtype: float64"
      ]
     },
     "execution_count": 64,
     "metadata": {},
     "output_type": "execute_result"
    },
    {
     "data": {
      "image/png": "[encoded data removed]",
      "text/plain": [
       "<matplotlib.figure.Figure at 0x2bf6a720080>"
      ]
     },
     "metadata": {},
     "output_type": "display_data"
    }
   ],
   "source": [
    "S[\"Setor de Serviços em 2009\"].plot.hist(density = True)\n",
    "S[\"Setor de Serviços em 2009\"].describe()"
   ]
  },
  {
   "cell_type": "markdown",
   "metadata": {},
   "source": [
    "# Conclusão"
   ]
  },
  {
   "cell_type": "markdown",
   "metadata": {},
   "source": [
    "Com os dados analisados, pode-se dizer que  "
   ]
  }
 ],
 "metadata": {
  "kernelspec": {
   "display_name": "Python 3",
   "language": "python",
   "name": "python3"
  },
  "language_info": {
   "codemirror_mode": {
    "name": "ipython",
    "version": 3
   },
   "file_extension": ".py",
   "mimetype": "text/x-python",
   "name": "python",
   "nbconvert_exporter": "python",
   "pygments_lexer": "ipython3",
   "version": "3.6.4"
  }
 },
 "nbformat": 4,
 "nbformat_minor": 2
}
